{
  "metadata": {
    "kernelspec": {
      "name": "python",
      "display_name": "Python (Pyodide)",
      "language": "python"
    },
    "language_info": {
      "codemirror_mode": {
        "name": "python",
        "version": 3
      },
      "file_extension": ".py",
      "mimetype": "text/x-python",
      "name": "python",
      "nbconvert_exporter": "python",
      "pygments_lexer": "ipython3",
      "version": "3.8"
    }
  },
  "nbformat_minor": 5,
  "nbformat": 4,
  "cells": [
    {
      "id": "19f18e01-99f5-4338-a889-2ceaa35ab9ed",
      "cell_type": "markdown",
      "source": "# CIS Doctoral Colloquium 2025",
      "metadata": {}
    },
    {
      "id": "ace8ef7e-f492-4136-b12f-4173f8c69782",
      "cell_type": "markdown",
      "source": "## Import the necessary packages",
      "metadata": {}
    },
    {
      "id": "f8cc4a08-f973-4284-86ab-ffcbf35411e3",
      "cell_type": "code",
      "source": "import matplotlib.pyplot as plt\n\nimport numpy as np",
      "metadata": {
        "trusted": true
      },
      "outputs": [
        {
          "name": "stderr",
          "output_type": "stream",
          "text": "Matplotlib is building the font cache; this may take a moment.\n"
        }
      ],
      "execution_count": 1
    },
    {
      "id": "30a68e41-ec10-4274-9ce3-91cac9ef5ef3",
      "cell_type": "markdown",
      "source": "## Load the data",
      "metadata": {}
    },
    {
      "id": "4284e4a3-2d1d-47b6-9614-f5dbe4977d45",
      "cell_type": "code",
      "source": "data = np.load(\"data/demo_data.npz\")\nprint(data)",
      "metadata": {
        "trusted": true
      },
      "outputs": [
        {
          "name": "stdout",
          "output_type": "stream",
          "text": "NpzFile 'data/demo_data.npz' with keys: x, y\n"
        }
      ],
      "execution_count": 6
    },
    {
      "id": "83fd1112-d9e1-49f1-add9-4125c2051c38",
      "cell_type": "markdown",
      "source": "The data is accessed via a dict-like interface:",
      "metadata": {}
    },
    {
      "id": "de0275d4-5f64-44f3-b976-808cc8a6cc0d",
      "cell_type": "code",
      "source": "data[\"x\"][:5], data[\"y\"][:5]",
      "metadata": {
        "trusted": true
      },
      "outputs": [
        {
          "execution_count": 8,
          "output_type": "execute_result",
          "data": {
            "text/plain": "(array([4.90290066, 4.35892867, 2.51360381, 4.61173991, 2.70690397]),\n array([6.83317502, 5.6664903 , 1.32145392, 4.56595828, 2.29161906]))"
          },
          "metadata": {}
        }
      ],
      "execution_count": 8
    },
    {
      "id": "d6144ca6-7fe6-4f49-b8e1-1d0eacd1bf39",
      "cell_type": "markdown",
      "source": "Each item represents a single sample, with this many samples in total:",
      "metadata": {}
    },
    {
      "id": "4eacea56-6fb8-4c0f-9878-0dbac0f364ff",
      "cell_type": "code",
      "source": "len(data[\"x\"])",
      "metadata": {
        "trusted": true
      },
      "outputs": [
        {
          "execution_count": 9,
          "output_type": "execute_result",
          "data": {
            "text/plain": "100"
          },
          "metadata": {}
        }
      ],
      "execution_count": 9
    },
    {
      "id": "4c110427-b582-4c20-8ad3-340a859839d4",
      "cell_type": "markdown",
      "source": "## Visualisation",
      "metadata": {}
    },
    {
      "id": "56e2dfa8-aec1-4af8-af40-6c83096899f8",
      "cell_type": "markdown",
      "source": "Your task is to produce a visualisation of the data, with the following details:\n\n* You are aiming to communicate the relationship between the `x` and `y` variables.\n* Your target journal has columns that are 3.4 inches wide.",
      "metadata": {}
    },
    {
      "id": "45810815-cc16-42c6-9940-2b70beb7b435",
      "cell_type": "markdown",
      "source": "Things to investigate:\n\n* Set the axes to have the same limits; you can assume the data range from -4 to 10. See `ax.set_xlim`, `ax.set_ylim`.\n* Add axis labels (see `ax.set_xlabel`, `ax.set_ylabel`).\n* How might you deal with overlapping points? Investigate the `opacity` parameter to `ax.scatter`. Also `facecolors=\"none\", edgecolors=\"black\"`.\n* Add a line of unity using `ax.plot`; i.e., from (-4, -4) to (10, 10). Style the plot using parameters like `linestyle=`, `color=`.\n* Set the axis tick labels to be from -4 to 10 for both axes (see `ax.set_xticks`, `ax.set_yticks`).\n* You estimate that the line of best fit that relates `x` and `y` can be given by $y = -0.48 + 1.55 \\times x$. Add that line to the plot.\n* Add an annotation of that equation onto the plot using `ax.annotate`.\n* Assume the uncertainty around the line of best fit is $\\pm 1$ (not true, but assume it is). Use `ax.fill_between` to draw this uncertainty around the line of best fit (use the `alpha` parameter too).",
      "metadata": {}
    },
    {
      "id": "89fe38d2-279c-457e-96f1-28b9aca7a54b",
      "cell_type": "code",
      "source": "",
      "metadata": {
        "trusted": true
      },
      "outputs": [],
      "execution_count": null
    }
  ]
}